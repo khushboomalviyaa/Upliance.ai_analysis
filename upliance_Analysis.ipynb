{
 "cells": [
  {
   "cell_type": "code",
   "execution_count": 20,
   "id": "8ba1a13f-265a-4d40-b67d-078ba734d9b5",
   "metadata": {},
   "outputs": [],
   "source": [
    "import pandas as pd\n",
    "import numpy as np \n",
    "# File path\n",
    "file_path = r\"C:\\Users\\Khushi\\Downloads\\Assignment.xlsx\""
   ]
  },
  {
   "cell_type": "markdown",
   "id": "c3693d66-d427-4813-a12b-29d2ee154965",
   "metadata": {},
   "source": [
    "# Read the sheets using the Sheet names"
   ]
  },
  {
   "cell_type": "code",
   "execution_count": 21,
   "id": "ff8b6bbf-6fea-407b-9be0-851751e4058d",
   "metadata": {},
   "outputs": [],
   "source": [
    "\n",
    "user_details = pd.read_excel(file_path, sheet_name=\"UserDetails.csv\")\n",
    "cooking_sessions = pd.read_excel(file_path, sheet_name=\"CookingSessions.csv\")\n",
    "order_details = pd.read_excel(file_path, sheet_name=\"OrderDetails.csv\")"
   ]
  },
  {
   "cell_type": "markdown",
   "id": "1c8b8cbb-5edc-4b65-bdf0-63c4e1d10b51",
   "metadata": {},
   "source": [
    "# Print the data from Iser Details sheet"
   ]
  },
  {
   "cell_type": "code",
   "execution_count": 22,
   "id": "0bf5cd5b-607c-4f8b-9422-2968e06eee42",
   "metadata": {},
   "outputs": [
    {
     "name": "stdout",
     "output_type": "stream",
     "text": [
      "User Details:\n",
      "  User ID      User Name  Age       Location Registration Date         Phone  \\\n",
      "0    U001  Alice Johnson   28       New York        2023-01-15  123-456-7890   \n",
      "1    U002      Bob Smith   35    Los Angeles        2023-02-20  987-654-3210   \n",
      "2    U003    Charlie Lee   42        Chicago        2023-03-10  555-123-4567   \n",
      "3    U004    David Brown   27  San Francisco        2023-04-05  444-333-2222   \n",
      "4    U005     Emma White   30        Seattle        2023-05-22  777-888-9999   \n",
      "\n",
      "               Email Favorite Meal  Total Orders  \n",
      "0    alice@email.com        Dinner            12  \n",
      "1      bob@email.com         Lunch             8  \n",
      "2  charlie@email.com     Breakfast            15  \n",
      "3    david@email.com        Dinner            10  \n",
      "4     emma@email.com         Lunch             9  \n"
     ]
    }
   ],
   "source": [
    "\n",
    "print(\"User Details:\")\n",
    "print(user_details.head())"
   ]
  },
  {
   "cell_type": "markdown",
   "id": "db876971-5705-468f-936e-f09dd22b799e",
   "metadata": {},
   "source": [
    "# print the data from cooking session sheet\n"
   ]
  },
  {
   "cell_type": "code",
   "execution_count": 42,
   "id": "bbce7296-d089-497e-8883-beb1170eeeaa",
   "metadata": {},
   "outputs": [
    {
     "name": "stdout",
     "output_type": "stream",
     "text": [
      "Cooking Sessions:\n",
      "  Session ID User ID        Dish Name  Meal Type       Session Start  \\\n",
      "0       S001    U001        Spaghetti     Dinner 2024-12-01 19:00:00   \n",
      "1       S002    U002     Caesar Salad      Lunch 2024-12-01 12:00:00   \n",
      "2       S003    U003  Grilled Chicken     Dinner 2024-12-02 19:30:00   \n",
      "3       S004    U001         Pancakes  Breakfast 2024-12-02 07:30:00   \n",
      "4       S005    U004     Caesar Salad      Lunch 2024-12-03 13:00:00   \n",
      "\n",
      "          Session End  Duration (mins)  Session Rating  \n",
      "0 2024-12-01 19:30:00               30             4.5  \n",
      "1 2024-12-01 12:20:00               20             4.0  \n",
      "2 2024-12-02 20:10:00               40             4.8  \n",
      "3 2024-12-02 08:00:00               30             4.2  \n",
      "4 2024-12-03 13:15:00               15             4.7  \n"
     ]
    }
   ],
   "source": [
    "\n",
    "print(\"Cooking Sessions:\")\n",
    "print(cooking_sessions.head())"
   ]
  },
  {
   "cell_type": "markdown",
   "id": "686e8cf0-0cca-46b6-a1a5-b0d5457e466a",
   "metadata": {},
   "source": [
    "# print the data from order Deatils sheet\n"
   ]
  },
  {
   "cell_type": "code",
   "execution_count": 24,
   "id": "0805e1e1-9821-48e3-8ec6-c5bedc947b3e",
   "metadata": {},
   "outputs": [
    {
     "name": "stdout",
     "output_type": "stream",
     "text": [
      "Order Details:\n",
      "   Order ID User ID Order Date  Meal Type        Dish Name Order Status  \\\n",
      "0      1001    U001 2024-12-01     Dinner        Spaghetti    Completed   \n",
      "1      1002    U002 2024-12-01      Lunch     Caesar Salad    Completed   \n",
      "2      1003    U003 2024-12-02     Dinner  Grilled Chicken     Canceled   \n",
      "3      1004    U001 2024-12-02  Breakfast         Pancakes    Completed   \n",
      "4      1005    U004 2024-12-03      Lunch     Caesar Salad    Completed   \n",
      "\n",
      "   Amount (USD) Time of Day  Rating Session ID  \n",
      "0          15.0       Night     5.0       S001  \n",
      "1          10.0         Day     4.0       S002  \n",
      "2          12.5       Night     NaN       S003  \n",
      "3           8.0     Morning     4.0       S004  \n",
      "4           9.0         Day     4.0       S005  \n"
     ]
    }
   ],
   "source": [
    "print(\"Order Details:\")\n",
    "print(order_details.head())"
   ]
  },
  {
   "cell_type": "markdown",
   "id": "3f353074-5f1e-4ba4-8635-f2bd8d13a57a",
   "metadata": {},
   "source": [
    "# Check the structure of user details sheet\n"
   ]
  },
  {
   "cell_type": "code",
   "execution_count": 32,
   "id": "b0f0a6d4-82bb-4f89-8f5c-aa0382b4e657",
   "metadata": {},
   "outputs": [
    {
     "name": "stdout",
     "output_type": "stream",
     "text": [
      "<class 'pandas.core.frame.DataFrame'>\n",
      "RangeIndex: 10 entries, 0 to 9\n",
      "Data columns (total 9 columns):\n",
      " #   Column             Non-Null Count  Dtype         \n",
      "---  ------             --------------  -----         \n",
      " 0   User ID            10 non-null     object        \n",
      " 1   User Name          10 non-null     object        \n",
      " 2   Age                10 non-null     int64         \n",
      " 3   Location           10 non-null     object        \n",
      " 4   Registration Date  10 non-null     datetime64[ns]\n",
      " 5   Phone              10 non-null     object        \n",
      " 6   Email              10 non-null     object        \n",
      " 7   Favorite Meal      10 non-null     object        \n",
      " 8   Total Orders       10 non-null     int64         \n",
      "dtypes: datetime64[ns](1), int64(2), object(6)\n",
      "memory usage: 848.0+ bytes\n",
      "None\n",
      "             Age    Registration Date  Total Orders\n",
      "count  10.000000                   10     10.000000\n",
      "mean   31.800000  2023-05-27 02:24:00      9.400000\n",
      "min    25.000000  2023-01-15 00:00:00      5.000000\n",
      "25%    28.250000  2023-03-16 12:00:00      7.250000\n",
      "50%    30.500000  2023-06-03 00:00:00      8.500000\n",
      "75%    34.500000  2023-08-01 00:00:00     11.500000\n",
      "max    42.000000  2023-10-10 00:00:00     15.000000\n",
      "std     5.266245                  NaN      3.339993\n",
      "Missing values in UserDetails: User ID              0\n",
      "User Name            0\n",
      "Age                  0\n",
      "Location             0\n",
      "Registration Date    0\n",
      "Phone                0\n",
      "Email                0\n",
      "Favorite Meal        0\n",
      "Total Orders         0\n",
      "dtype: int64\n",
      "Duplicates in UserDetails: 0\n"
     ]
    }
   ],
   "source": [
    "print(user_details.info())\n",
    "print(user_details.describe())\n",
    "print(\"Missing values in UserDetails:\", user_details.isnull().sum())\n",
    "print(\"Duplicates in UserDetails:\", user_details.duplicated().sum())\n"
   ]
  },
  {
   "cell_type": "markdown",
   "id": "d3358cf4-2a80-407e-b4bf-940c1e045416",
   "metadata": {},
   "source": [
    "# check the structure of cooking sessions data"
   ]
  },
  {
   "cell_type": "code",
   "execution_count": 25,
   "id": "7a0095f9-dfa4-4546-b73d-c0b498b3e3cc",
   "metadata": {},
   "outputs": [
    {
     "name": "stdout",
     "output_type": "stream",
     "text": [
      "<class 'pandas.core.frame.DataFrame'>\n",
      "RangeIndex: 16 entries, 0 to 15\n",
      "Data columns (total 8 columns):\n",
      " #   Column           Non-Null Count  Dtype         \n",
      "---  ------           --------------  -----         \n",
      " 0   Session ID       16 non-null     object        \n",
      " 1   User ID          16 non-null     object        \n",
      " 2   Dish Name        16 non-null     object        \n",
      " 3   Meal Type        16 non-null     object        \n",
      " 4   Session Start    16 non-null     datetime64[ns]\n",
      " 5   Session End      16 non-null     datetime64[ns]\n",
      " 6   Duration (mins)  16 non-null     int64         \n",
      " 7   Session Rating   16 non-null     float64       \n",
      "dtypes: datetime64[ns](2), float64(1), int64(1), object(4)\n",
      "memory usage: 1.1+ KB\n",
      "None\n",
      "                    Session Start                    Session End  \\\n",
      "count                          16                             16   \n",
      "mean   2024-12-05 02:50:37.500000  2024-12-05 03:20:56.249999872   \n",
      "min           2024-12-01 12:00:00            2024-12-01 12:20:00   \n",
      "25%           2024-12-03 08:37:30            2024-12-03 08:58:45   \n",
      "50%           2024-12-05 00:30:00            2024-12-05 00:57:30   \n",
      "75%           2024-12-06 23:22:30            2024-12-07 00:00:00   \n",
      "max           2024-12-08 19:30:00            2024-12-08 20:10:00   \n",
      "std                           NaN                            NaN   \n",
      "\n",
      "       Duration (mins)  Session Rating  \n",
      "count        16.000000       16.000000  \n",
      "mean         30.312500        4.518750  \n",
      "min          10.000000        4.000000  \n",
      "25%          20.000000        4.300000  \n",
      "50%          30.000000        4.550000  \n",
      "75%          40.000000        4.725000  \n",
      "max          45.000000        5.000000  \n",
      "std          10.873324        0.292617  \n",
      "Missing values in CookingSessions: Session ID         0\n",
      "User ID            0\n",
      "Dish Name          0\n",
      "Meal Type          0\n",
      "Session Start      0\n",
      "Session End        0\n",
      "Duration (mins)    0\n",
      "Session Rating     0\n",
      "dtype: int64\n",
      "Duplicates in CookingSessions: 0\n"
     ]
    }
   ],
   "source": [
    "\n",
    "\n",
    "print(cooking_sessions.info())\n",
    "print(cooking_sessions.describe())\n",
    "print(\"Missing values in CookingSessions:\", cooking_sessions.isnull().sum())\n",
    "print(\"Duplicates in CookingSessions:\", cooking_sessions.duplicated().sum())\n"
   ]
  },
  {
   "cell_type": "markdown",
   "id": "84eef4a1-5bfd-413d-ac35-8ce048e2d780",
   "metadata": {},
   "source": [
    "# checking the structre of order_details data\n"
   ]
  },
  {
   "cell_type": "code",
   "execution_count": 40,
   "id": "2400bb75-6781-4500-bb06-5fbda1e69e7e",
   "metadata": {},
   "outputs": [
    {
     "name": "stdout",
     "output_type": "stream",
     "text": [
      "<class 'pandas.core.frame.DataFrame'>\n",
      "RangeIndex: 16 entries, 0 to 15\n",
      "Data columns (total 10 columns):\n",
      " #   Column        Non-Null Count  Dtype         \n",
      "---  ------        --------------  -----         \n",
      " 0   Order ID      16 non-null     int64         \n",
      " 1   User ID       16 non-null     object        \n",
      " 2   Order Date    16 non-null     datetime64[ns]\n",
      " 3   Meal Type     16 non-null     object        \n",
      " 4   Dish Name     16 non-null     object        \n",
      " 5   Order Status  16 non-null     object        \n",
      " 6   Amount (USD)  16 non-null     float64       \n",
      " 7   Time of Day   16 non-null     object        \n",
      " 8   Rating        14 non-null     float64       \n",
      " 9   Session ID    16 non-null     object        \n",
      "dtypes: datetime64[ns](1), float64(2), int64(1), object(6)\n",
      "memory usage: 1.4+ KB\n",
      "None\n",
      "          Order ID           Order Date  Amount (USD)     Rating\n",
      "count    16.000000                   16     16.000000  14.000000\n",
      "mean   1008.500000  2024-12-04 12:00:00     11.250000   4.285714\n",
      "min    1001.000000  2024-12-01 00:00:00      7.000000   4.000000\n",
      "25%    1004.750000  2024-12-02 18:00:00      9.000000   4.000000\n",
      "50%    1008.500000  2024-12-04 12:00:00     11.500000   4.000000\n",
      "75%    1012.250000  2024-12-06 06:00:00     13.125000   4.750000\n",
      "max    1016.000000  2024-12-08 00:00:00     15.000000   5.000000\n",
      "std       4.760952                  NaN      2.435843   0.468807\n",
      "Missing values in OrderDetails: Order ID        0\n",
      "User ID         0\n",
      "Order Date      0\n",
      "Meal Type       0\n",
      "Dish Name       0\n",
      "Order Status    0\n",
      "Amount (USD)    0\n",
      "Time of Day     0\n",
      "Rating          2\n",
      "Session ID      0\n",
      "dtype: int64\n",
      "Duplicates in OrderDetails: 0\n"
     ]
    }
   ],
   "source": [
    "\n",
    "print(order_details.info())\n",
    "print(order_details.describe())\n",
    "print(\"Missing values in OrderDetails:\", order_details.isnull().sum())\n",
    "print(\"Duplicates in OrderDetails:\", order_details_cleaned.duplicated().sum())\n"
   ]
  },
  {
   "cell_type": "markdown",
   "id": "8643d56f-bda7-4f11-a30e-f7add175e8db",
   "metadata": {},
   "source": [
    "# Droping the null values from the data as we have 2 null values in Rating column \n"
   ]
  },
  {
   "cell_type": "code",
   "execution_count": 41,
   "id": "69ca705e-0e4e-40e4-9620-c4f674f57b9a",
   "metadata": {},
   "outputs": [
    {
     "name": "stdout",
     "output_type": "stream",
     "text": [
      "<class 'pandas.core.frame.DataFrame'>\n",
      "Index: 14 entries, 0 to 15\n",
      "Data columns (total 10 columns):\n",
      " #   Column        Non-Null Count  Dtype         \n",
      "---  ------        --------------  -----         \n",
      " 0   Order ID      14 non-null     int64         \n",
      " 1   User ID       14 non-null     object        \n",
      " 2   Order Date    14 non-null     datetime64[ns]\n",
      " 3   Meal Type     14 non-null     object        \n",
      " 4   Dish Name     14 non-null     object        \n",
      " 5   Order Status  14 non-null     object        \n",
      " 6   Amount (USD)  14 non-null     float64       \n",
      " 7   Time of Day   14 non-null     object        \n",
      " 8   Rating        14 non-null     float64       \n",
      " 9   Session ID    14 non-null     object        \n",
      "dtypes: datetime64[ns](1), float64(2), int64(1), object(6)\n",
      "memory usage: 1.2+ KB\n"
     ]
    }
   ],
   "source": [
    "order_details_cleaned = order_details.dropna(subset=['Rating'])\n",
    "order_details_cleaned.isnull().sum()\n",
    "order_details_cleaned.info()"
   ]
  },
  {
   "cell_type": "code",
   "execution_count": 27,
   "id": "5e17ba09-a656-4eee-982e-1d3e77659fbf",
   "metadata": {},
   "outputs": [
    {
     "name": "stdout",
     "output_type": "stream",
     "text": [
      "  User ID_x      User Name  Age     Location Registration Date         Phone  \\\n",
      "0      U001  Alice Johnson   28     New York        2023-01-15  123-456-7890   \n",
      "1      U001  Alice Johnson   28     New York        2023-01-15  123-456-7890   \n",
      "2      U001  Alice Johnson   28     New York        2023-01-15  123-456-7890   \n",
      "3      U002      Bob Smith   35  Los Angeles        2023-02-20  987-654-3210   \n",
      "4      U002      Bob Smith   35  Los Angeles        2023-02-20  987-654-3210   \n",
      "\n",
      "             Email Favorite Meal  Total Orders  Order ID  ... Time of Day  \\\n",
      "0  alice@email.com        Dinner            12      1001  ...       Night   \n",
      "1  alice@email.com        Dinner            12      1004  ...     Morning   \n",
      "2  alice@email.com        Dinner            12      1009  ...       Night   \n",
      "3    bob@email.com         Lunch             8      1002  ...         Day   \n",
      "4    bob@email.com         Lunch             8      1006  ...       Night   \n",
      "\n",
      "  Rating Session ID User ID_y      Dish Name_y Meal Type_y  \\\n",
      "0    5.0       S001      U001        Spaghetti      Dinner   \n",
      "1    4.0       S004      U001         Pancakes   Breakfast   \n",
      "2    5.0       S009      U001  Grilled Chicken      Dinner   \n",
      "3    4.0       S002      U002     Caesar Salad       Lunch   \n",
      "4    4.0       S006      U002        Spaghetti      Dinner   \n",
      "\n",
      "        Session Start         Session End Duration (mins) Session Rating  \n",
      "0 2024-12-01 19:00:00 2024-12-01 19:30:00              30            4.5  \n",
      "1 2024-12-02 07:30:00 2024-12-02 08:00:00              30            4.2  \n",
      "2 2024-12-05 19:00:00 2024-12-05 19:40:00              40            4.9  \n",
      "3 2024-12-01 12:00:00 2024-12-01 12:20:00              20            4.0  \n",
      "4 2024-12-03 18:30:00 2024-12-03 19:00:00              30            4.3  \n",
      "\n",
      "[5 rows x 25 columns]\n"
     ]
    }
   ],
   "source": [
    "# Merging UserDetails with OrderDetails\n",
    "user_orders = pd.merge(user_details, order_details_cleaned, on='User ID', how='inner')\n",
    "\n",
    "\n",
    "# Merged the result user_data with CookingSessions\n",
    "merged_data = pd.merge(user_orders, cooking_sessions, on='Session ID', how='inner')\n",
    "\n",
    "\n",
    "# printing the merged dataset\n",
    "print(merged_data.head())\n",
    "\n"
   ]
  },
  {
   "cell_type": "markdown",
   "id": "a32c55d7-808c-4f1e-80d5-05f401355fad",
   "metadata": {},
   "source": [
    "# checking the structure of merged data\n"
   ]
  },
  {
   "cell_type": "code",
   "execution_count": 43,
   "id": "272075fe-0e45-4ac0-8984-44375e6fb6ff",
   "metadata": {},
   "outputs": [
    {
     "name": "stdout",
     "output_type": "stream",
     "text": [
      "<class 'pandas.core.frame.DataFrame'>\n",
      "RangeIndex: 14 entries, 0 to 13\n",
      "Data columns (total 24 columns):\n",
      " #   Column             Non-Null Count  Dtype         \n",
      "---  ------             --------------  -----         \n",
      " 0   User Name          14 non-null     object        \n",
      " 1   Age                14 non-null     int64         \n",
      " 2   Location           14 non-null     object        \n",
      " 3   Registration Date  14 non-null     datetime64[ns]\n",
      " 4   Phone              14 non-null     object        \n",
      " 5   Email              14 non-null     object        \n",
      " 6   Favorite Meal      14 non-null     object        \n",
      " 7   Total Orders       14 non-null     int64         \n",
      " 8   Order ID           14 non-null     int64         \n",
      " 9   Order Date         14 non-null     datetime64[ns]\n",
      " 10  Meal Type_x        14 non-null     object        \n",
      " 11  Dish Name_x        14 non-null     object        \n",
      " 12  Order Status       14 non-null     object        \n",
      " 13  Amount (USD)       14 non-null     float64       \n",
      " 14  Time of Day        14 non-null     object        \n",
      " 15  Rating             14 non-null     float64       \n",
      " 16  Session ID         14 non-null     object        \n",
      " 17  Dish Name          14 non-null     object        \n",
      " 18  Meal Type          14 non-null     object        \n",
      " 19  Session Start      14 non-null     datetime64[ns]\n",
      " 20  Session End        14 non-null     datetime64[ns]\n",
      " 21  Duration (mins)    14 non-null     int64         \n",
      " 22  Session Rating     14 non-null     float64       \n",
      " 23  User ID            14 non-null     object        \n",
      "dtypes: datetime64[ns](4), float64(3), int64(4), object(13)\n",
      "memory usage: 2.8+ KB\n"
     ]
    },
    {
     "data": {
      "text/plain": [
       "User Name            0\n",
       "Age                  0\n",
       "Location             0\n",
       "Registration Date    0\n",
       "Phone                0\n",
       "Email                0\n",
       "Favorite Meal        0\n",
       "Total Orders         0\n",
       "Order ID             0\n",
       "Order Date           0\n",
       "Meal Type_x          0\n",
       "Dish Name_x          0\n",
       "Order Status         0\n",
       "Amount (USD)         0\n",
       "Time of Day          0\n",
       "Rating               0\n",
       "Session ID           0\n",
       "Dish Name            0\n",
       "Meal Type            0\n",
       "Session Start        0\n",
       "Session End          0\n",
       "Duration (mins)      0\n",
       "Session Rating       0\n",
       "User ID              0\n",
       "dtype: int64"
      ]
     },
     "execution_count": 43,
     "metadata": {},
     "output_type": "execute_result"
    }
   ],
   "source": [
    "\n",
    "merged_data.info()\n",
    "merged_data.isnull().sum()"
   ]
  },
  {
   "cell_type": "code",
   "execution_count": 28,
   "id": "1a276294-7da9-4171-a3d3-8cefdecd64bf",
   "metadata": {},
   "outputs": [
    {
     "name": "stdout",
     "output_type": "stream",
     "text": [
      "Index(['User ID_x', 'User Name', 'Age', 'Location', 'Registration Date',\n",
      "       'Phone', 'Email', 'Favorite Meal', 'Total Orders', 'Order ID',\n",
      "       'Order Date', 'Meal Type_x', 'Dish Name_x', 'Order Status',\n",
      "       'Amount (USD)', 'Time of Day', 'Rating', 'Session ID', 'User ID_y',\n",
      "       'Dish Name_y', 'Meal Type_y', 'Session Start', 'Session End',\n",
      "       'Duration (mins)', 'Session Rating'],\n",
      "      dtype='object')\n"
     ]
    }
   ],
   "source": [
    "#printing the column names from merged_data table\n",
    "print(merged_data.columns)"
   ]
  },
  {
   "cell_type": "code",
   "execution_count": 45,
   "id": "338c712e-1b1d-4add-9425-94acf289dcf9",
   "metadata": {},
   "outputs": [
    {
     "ename": "KeyError",
     "evalue": "\"None of [Index(['User ID_x', 'User ID_y'], dtype='object')] are in the [columns]\"",
     "output_type": "error",
     "traceback": [
      "\u001b[1;31m---------------------------------------------------------------------------\u001b[0m",
      "\u001b[1;31mKeyError\u001b[0m                                  Traceback (most recent call last)",
      "Cell \u001b[1;32mIn[45], line 1\u001b[0m\n\u001b[1;32m----> 1\u001b[0m \u001b[38;5;28mprint\u001b[39m(\u001b[43mmerged_data\u001b[49m\u001b[43m[\u001b[49m\u001b[43m[\u001b[49m\u001b[38;5;124;43m'\u001b[39;49m\u001b[38;5;124;43mUser ID_x\u001b[39;49m\u001b[38;5;124;43m'\u001b[39;49m\u001b[43m,\u001b[49m\u001b[43m \u001b[49m\u001b[38;5;124;43m'\u001b[39;49m\u001b[38;5;124;43mUser ID_y\u001b[39;49m\u001b[38;5;124;43m'\u001b[39;49m\u001b[43m]\u001b[49m\u001b[43m]\u001b[49m)\n",
      "File \u001b[1;32mc:\\users\\khushi\\appdata\\local\\programs\\python\\python38\\lib\\site-packages\\pandas\\core\\frame.py:3767\u001b[0m, in \u001b[0;36mDataFrame.__getitem__\u001b[1;34m(self, key)\u001b[0m\n\u001b[0;32m   3765\u001b[0m     \u001b[38;5;28;01mif\u001b[39;00m is_iterator(key):\n\u001b[0;32m   3766\u001b[0m         key \u001b[38;5;241m=\u001b[39m \u001b[38;5;28mlist\u001b[39m(key)\n\u001b[1;32m-> 3767\u001b[0m     indexer \u001b[38;5;241m=\u001b[39m \u001b[38;5;28;43mself\u001b[39;49m\u001b[38;5;241;43m.\u001b[39;49m\u001b[43mcolumns\u001b[49m\u001b[38;5;241;43m.\u001b[39;49m\u001b[43m_get_indexer_strict\u001b[49m\u001b[43m(\u001b[49m\u001b[43mkey\u001b[49m\u001b[43m,\u001b[49m\u001b[43m \u001b[49m\u001b[38;5;124;43m\"\u001b[39;49m\u001b[38;5;124;43mcolumns\u001b[39;49m\u001b[38;5;124;43m\"\u001b[39;49m\u001b[43m)\u001b[49m[\u001b[38;5;241m1\u001b[39m]\n\u001b[0;32m   3769\u001b[0m \u001b[38;5;66;03m# take() does not accept boolean indexers\u001b[39;00m\n\u001b[0;32m   3770\u001b[0m \u001b[38;5;28;01mif\u001b[39;00m \u001b[38;5;28mgetattr\u001b[39m(indexer, \u001b[38;5;124m\"\u001b[39m\u001b[38;5;124mdtype\u001b[39m\u001b[38;5;124m\"\u001b[39m, \u001b[38;5;28;01mNone\u001b[39;00m) \u001b[38;5;241m==\u001b[39m \u001b[38;5;28mbool\u001b[39m:\n",
      "File \u001b[1;32mc:\\users\\khushi\\appdata\\local\\programs\\python\\python38\\lib\\site-packages\\pandas\\core\\indexes\\base.py:5877\u001b[0m, in \u001b[0;36mIndex._get_indexer_strict\u001b[1;34m(self, key, axis_name)\u001b[0m\n\u001b[0;32m   5874\u001b[0m \u001b[38;5;28;01melse\u001b[39;00m:\n\u001b[0;32m   5875\u001b[0m     keyarr, indexer, new_indexer \u001b[38;5;241m=\u001b[39m \u001b[38;5;28mself\u001b[39m\u001b[38;5;241m.\u001b[39m_reindex_non_unique(keyarr)\n\u001b[1;32m-> 5877\u001b[0m \u001b[38;5;28;43mself\u001b[39;49m\u001b[38;5;241;43m.\u001b[39;49m\u001b[43m_raise_if_missing\u001b[49m\u001b[43m(\u001b[49m\u001b[43mkeyarr\u001b[49m\u001b[43m,\u001b[49m\u001b[43m \u001b[49m\u001b[43mindexer\u001b[49m\u001b[43m,\u001b[49m\u001b[43m \u001b[49m\u001b[43maxis_name\u001b[49m\u001b[43m)\u001b[49m\n\u001b[0;32m   5879\u001b[0m keyarr \u001b[38;5;241m=\u001b[39m \u001b[38;5;28mself\u001b[39m\u001b[38;5;241m.\u001b[39mtake(indexer)\n\u001b[0;32m   5880\u001b[0m \u001b[38;5;28;01mif\u001b[39;00m \u001b[38;5;28misinstance\u001b[39m(key, Index):\n\u001b[0;32m   5881\u001b[0m     \u001b[38;5;66;03m# GH 42790 - Preserve name from an Index\u001b[39;00m\n",
      "File \u001b[1;32mc:\\users\\khushi\\appdata\\local\\programs\\python\\python38\\lib\\site-packages\\pandas\\core\\indexes\\base.py:5938\u001b[0m, in \u001b[0;36mIndex._raise_if_missing\u001b[1;34m(self, key, indexer, axis_name)\u001b[0m\n\u001b[0;32m   5936\u001b[0m     \u001b[38;5;28;01mif\u001b[39;00m use_interval_msg:\n\u001b[0;32m   5937\u001b[0m         key \u001b[38;5;241m=\u001b[39m \u001b[38;5;28mlist\u001b[39m(key)\n\u001b[1;32m-> 5938\u001b[0m     \u001b[38;5;28;01mraise\u001b[39;00m \u001b[38;5;167;01mKeyError\u001b[39;00m(\u001b[38;5;124mf\u001b[39m\u001b[38;5;124m\"\u001b[39m\u001b[38;5;124mNone of [\u001b[39m\u001b[38;5;132;01m{\u001b[39;00mkey\u001b[38;5;132;01m}\u001b[39;00m\u001b[38;5;124m] are in the [\u001b[39m\u001b[38;5;132;01m{\u001b[39;00maxis_name\u001b[38;5;132;01m}\u001b[39;00m\u001b[38;5;124m]\u001b[39m\u001b[38;5;124m\"\u001b[39m)\n\u001b[0;32m   5940\u001b[0m not_found \u001b[38;5;241m=\u001b[39m \u001b[38;5;28mlist\u001b[39m(ensure_index(key)[missing_mask\u001b[38;5;241m.\u001b[39mnonzero()[\u001b[38;5;241m0\u001b[39m]]\u001b[38;5;241m.\u001b[39munique())\n\u001b[0;32m   5941\u001b[0m \u001b[38;5;28;01mraise\u001b[39;00m \u001b[38;5;167;01mKeyError\u001b[39;00m(\u001b[38;5;124mf\u001b[39m\u001b[38;5;124m\"\u001b[39m\u001b[38;5;132;01m{\u001b[39;00mnot_found\u001b[38;5;132;01m}\u001b[39;00m\u001b[38;5;124m not in index\u001b[39m\u001b[38;5;124m\"\u001b[39m)\n",
      "\u001b[1;31mKeyError\u001b[0m: \"None of [Index(['User ID_x', 'User ID_y'], dtype='object')] are in the [columns]\""
     ]
    }
   ],
   "source": [
    "#printing the columns User_ID_x and User_id_y to compare the rows with eachother\n",
    "\n",
    "print(merged_data[['User ID_x', 'User ID_y']])\n"
   ]
  },
  {
   "cell_type": "code",
   "execution_count": 62,
   "id": "0d339e8f-1086-433f-8466-17f913d0a093",
   "metadata": {},
   "outputs": [
    {
     "ename": "KeyError",
     "evalue": "'User ID_x'",
     "output_type": "error",
     "traceback": [
      "\u001b[1;31m---------------------------------------------------------------------------\u001b[0m",
      "\u001b[1;31mKeyError\u001b[0m                                  Traceback (most recent call last)",
      "File \u001b[1;32mc:\\users\\khushi\\appdata\\local\\programs\\python\\python38\\lib\\site-packages\\pandas\\core\\indexes\\base.py:3653\u001b[0m, in \u001b[0;36mIndex.get_loc\u001b[1;34m(self, key)\u001b[0m\n\u001b[0;32m   3652\u001b[0m \u001b[38;5;28;01mtry\u001b[39;00m:\n\u001b[1;32m-> 3653\u001b[0m     \u001b[38;5;28;01mreturn\u001b[39;00m \u001b[38;5;28;43mself\u001b[39;49m\u001b[38;5;241;43m.\u001b[39;49m\u001b[43m_engine\u001b[49m\u001b[38;5;241;43m.\u001b[39;49m\u001b[43mget_loc\u001b[49m\u001b[43m(\u001b[49m\u001b[43mcasted_key\u001b[49m\u001b[43m)\u001b[49m\n\u001b[0;32m   3654\u001b[0m \u001b[38;5;28;01mexcept\u001b[39;00m \u001b[38;5;167;01mKeyError\u001b[39;00m \u001b[38;5;28;01mas\u001b[39;00m err:\n",
      "File \u001b[1;32mc:\\users\\khushi\\appdata\\local\\programs\\python\\python38\\lib\\site-packages\\pandas\\_libs\\index.pyx:147\u001b[0m, in \u001b[0;36mpandas._libs.index.IndexEngine.get_loc\u001b[1;34m()\u001b[0m\n",
      "File \u001b[1;32mc:\\users\\khushi\\appdata\\local\\programs\\python\\python38\\lib\\site-packages\\pandas\\_libs\\index.pyx:176\u001b[0m, in \u001b[0;36mpandas._libs.index.IndexEngine.get_loc\u001b[1;34m()\u001b[0m\n",
      "File \u001b[1;32mpandas\\_libs\\hashtable_class_helper.pxi:7080\u001b[0m, in \u001b[0;36mpandas._libs.hashtable.PyObjectHashTable.get_item\u001b[1;34m()\u001b[0m\n",
      "File \u001b[1;32mpandas\\_libs\\hashtable_class_helper.pxi:7088\u001b[0m, in \u001b[0;36mpandas._libs.hashtable.PyObjectHashTable.get_item\u001b[1;34m()\u001b[0m\n",
      "\u001b[1;31mKeyError\u001b[0m: 'User ID_x'",
      "\nThe above exception was the direct cause of the following exception:\n",
      "\u001b[1;31mKeyError\u001b[0m                                  Traceback (most recent call last)",
      "Cell \u001b[1;32mIn[62], line 2\u001b[0m\n\u001b[0;32m      1\u001b[0m \u001b[38;5;66;03m# Keeping 'User ID_x' and renamed it to 'User ID'\u001b[39;00m\n\u001b[1;32m----> 2\u001b[0m merged_data[\u001b[38;5;124m'\u001b[39m\u001b[38;5;124mUser ID\u001b[39m\u001b[38;5;124m'\u001b[39m] \u001b[38;5;241m=\u001b[39m \u001b[43mmerged_data\u001b[49m\u001b[43m[\u001b[49m\u001b[38;5;124;43m'\u001b[39;49m\u001b[38;5;124;43mUser ID_x\u001b[39;49m\u001b[38;5;124;43m'\u001b[39;49m\u001b[43m]\u001b[49m\n\u001b[0;32m      5\u001b[0m \u001b[38;5;66;03m# Droped the remaining columns i.e User id_x and User_id_y\u001b[39;00m\n\u001b[0;32m      6\u001b[0m merged_data\u001b[38;5;241m.\u001b[39mdrop(columns\u001b[38;5;241m=\u001b[39m[\u001b[38;5;124m'\u001b[39m\u001b[38;5;124mUser ID_x\u001b[39m\u001b[38;5;124m'\u001b[39m, \u001b[38;5;124m'\u001b[39m\u001b[38;5;124mUser ID_y\u001b[39m\u001b[38;5;124m'\u001b[39m], inplace\u001b[38;5;241m=\u001b[39m\u001b[38;5;28;01mTrue\u001b[39;00m)\n",
      "File \u001b[1;32mc:\\users\\khushi\\appdata\\local\\programs\\python\\python38\\lib\\site-packages\\pandas\\core\\frame.py:3761\u001b[0m, in \u001b[0;36mDataFrame.__getitem__\u001b[1;34m(self, key)\u001b[0m\n\u001b[0;32m   3759\u001b[0m \u001b[38;5;28;01mif\u001b[39;00m \u001b[38;5;28mself\u001b[39m\u001b[38;5;241m.\u001b[39mcolumns\u001b[38;5;241m.\u001b[39mnlevels \u001b[38;5;241m>\u001b[39m \u001b[38;5;241m1\u001b[39m:\n\u001b[0;32m   3760\u001b[0m     \u001b[38;5;28;01mreturn\u001b[39;00m \u001b[38;5;28mself\u001b[39m\u001b[38;5;241m.\u001b[39m_getitem_multilevel(key)\n\u001b[1;32m-> 3761\u001b[0m indexer \u001b[38;5;241m=\u001b[39m \u001b[38;5;28;43mself\u001b[39;49m\u001b[38;5;241;43m.\u001b[39;49m\u001b[43mcolumns\u001b[49m\u001b[38;5;241;43m.\u001b[39;49m\u001b[43mget_loc\u001b[49m\u001b[43m(\u001b[49m\u001b[43mkey\u001b[49m\u001b[43m)\u001b[49m\n\u001b[0;32m   3762\u001b[0m \u001b[38;5;28;01mif\u001b[39;00m is_integer(indexer):\n\u001b[0;32m   3763\u001b[0m     indexer \u001b[38;5;241m=\u001b[39m [indexer]\n",
      "File \u001b[1;32mc:\\users\\khushi\\appdata\\local\\programs\\python\\python38\\lib\\site-packages\\pandas\\core\\indexes\\base.py:3655\u001b[0m, in \u001b[0;36mIndex.get_loc\u001b[1;34m(self, key)\u001b[0m\n\u001b[0;32m   3653\u001b[0m     \u001b[38;5;28;01mreturn\u001b[39;00m \u001b[38;5;28mself\u001b[39m\u001b[38;5;241m.\u001b[39m_engine\u001b[38;5;241m.\u001b[39mget_loc(casted_key)\n\u001b[0;32m   3654\u001b[0m \u001b[38;5;28;01mexcept\u001b[39;00m \u001b[38;5;167;01mKeyError\u001b[39;00m \u001b[38;5;28;01mas\u001b[39;00m err:\n\u001b[1;32m-> 3655\u001b[0m     \u001b[38;5;28;01mraise\u001b[39;00m \u001b[38;5;167;01mKeyError\u001b[39;00m(key) \u001b[38;5;28;01mfrom\u001b[39;00m \u001b[38;5;21;01merr\u001b[39;00m\n\u001b[0;32m   3656\u001b[0m \u001b[38;5;28;01mexcept\u001b[39;00m \u001b[38;5;167;01mTypeError\u001b[39;00m:\n\u001b[0;32m   3657\u001b[0m     \u001b[38;5;66;03m# If we have a listlike key, _check_indexing_error will raise\u001b[39;00m\n\u001b[0;32m   3658\u001b[0m     \u001b[38;5;66;03m#  InvalidIndexError. Otherwise we fall through and re-raise\u001b[39;00m\n\u001b[0;32m   3659\u001b[0m     \u001b[38;5;66;03m#  the TypeError.\u001b[39;00m\n\u001b[0;32m   3660\u001b[0m     \u001b[38;5;28mself\u001b[39m\u001b[38;5;241m.\u001b[39m_check_indexing_error(key)\n",
      "\u001b[1;31mKeyError\u001b[0m: 'User ID_x'"
     ]
    }
   ],
   "source": [
    "# Keeping 'User ID_x' and renamed it to 'User ID'\n",
    "merged_data['User ID'] = merged_data['User ID_x']\n",
    "\n",
    "\n",
    "# Droped the remaining columns i.e User id_x and User_id_y\n",
    "merged_data.drop(columns=['User ID_x', 'User ID_y'], inplace=True)\n",
    "\n",
    "# Verify the changes\n",
    "print(merged_data[['User ID']].head())\n"
   ]
  },
  {
   "cell_type": "code",
   "execution_count": 32,
   "id": "b154e74e-dde3-4876-959b-a4b9670d9975",
   "metadata": {},
   "outputs": [
    {
     "name": "stdout",
     "output_type": "stream",
     "text": [
      "        User Name  Age       Location Registration Date         Phone  \\\n",
      "0   Alice Johnson   28       New York        2023-01-15  123-456-7890   \n",
      "1   Alice Johnson   28       New York        2023-01-15  123-456-7890   \n",
      "2   Alice Johnson   28       New York        2023-01-15  123-456-7890   \n",
      "3       Bob Smith   35    Los Angeles        2023-02-20  987-654-3210   \n",
      "4       Bob Smith   35    Los Angeles        2023-02-20  987-654-3210   \n",
      "5       Bob Smith   35    Los Angeles        2023-02-20  987-654-3210   \n",
      "6     Charlie Lee   42        Chicago        2023-03-10  555-123-4567   \n",
      "7     David Brown   27  San Francisco        2023-04-05  444-333-2222   \n",
      "8     David Brown   27  San Francisco        2023-04-05  444-333-2222   \n",
      "9      Emma White   30        Seattle        2023-05-22  777-888-9999   \n",
      "10     Emma White   30        Seattle        2023-05-22  777-888-9999   \n",
      "11    Frank Green   25         Austin        2023-06-15  888-777-6666   \n",
      "12     Grace King   38         Boston        2023-07-02  999-888-7777   \n",
      "13      Henry Lee   31          Miami        2023-08-11  101-202-3030   \n",
      "\n",
      "                Email Favorite Meal  Total Orders  Order ID Order Date  ...  \\\n",
      "0     alice@email.com        Dinner            12      1001 2024-12-01  ...   \n",
      "1     alice@email.com        Dinner            12      1004 2024-12-02  ...   \n",
      "2     alice@email.com        Dinner            12      1009 2024-12-05  ...   \n",
      "3       bob@email.com         Lunch             8      1002 2024-12-01  ...   \n",
      "4       bob@email.com         Lunch             8      1006 2024-12-03  ...   \n",
      "5       bob@email.com         Lunch             8      1010 2024-12-05  ...   \n",
      "6   charlie@email.com     Breakfast            15      1011 2024-12-06  ...   \n",
      "7     david@email.com        Dinner            10      1005 2024-12-03  ...   \n",
      "8     david@email.com        Dinner            10      1012 2024-12-06  ...   \n",
      "9      emma@email.com         Lunch             9      1007 2024-12-04  ...   \n",
      "10     emma@email.com         Lunch             9      1013 2024-12-07  ...   \n",
      "11    frank@email.com        Dinner             7      1014 2024-12-07  ...   \n",
      "12    grace@email.com     Breakfast            14      1015 2024-12-08  ...   \n",
      "13    henry@email.com        Dinner             5      1016 2024-12-08  ...   \n",
      "\n",
      "   Time of Day Rating Session ID      Dish Name_y Meal Type_y  \\\n",
      "0        Night    5.0       S001        Spaghetti      Dinner   \n",
      "1      Morning    4.0       S004         Pancakes   Breakfast   \n",
      "2        Night    5.0       S009  Grilled Chicken      Dinner   \n",
      "3          Day    4.0       S002     Caesar Salad       Lunch   \n",
      "4        Night    4.0       S006        Spaghetti      Dinner   \n",
      "5      Morning    4.0       S010          Oatmeal   Breakfast   \n",
      "6      Morning    4.0       S011         Pancakes   Breakfast   \n",
      "7          Day    4.0       S005     Caesar Salad       Lunch   \n",
      "8        Night    4.0       S012        Spaghetti      Dinner   \n",
      "9        Night    4.0       S007  Grilled Chicken      Dinner   \n",
      "10         Day    4.0       S013     Caesar Salad       Lunch   \n",
      "11       Night    5.0       S014  Grilled Chicken      Dinner   \n",
      "12       Night    5.0       S015        Spaghetti      Dinner   \n",
      "13         Day    4.0       S016    Veggie Burger       Lunch   \n",
      "\n",
      "         Session Start         Session End Duration (mins) Session Rating  \\\n",
      "0  2024-12-01 19:00:00 2024-12-01 19:30:00              30            4.5   \n",
      "1  2024-12-02 07:30:00 2024-12-02 08:00:00              30            4.2   \n",
      "2  2024-12-05 19:00:00 2024-12-05 19:40:00              40            4.9   \n",
      "3  2024-12-01 12:00:00 2024-12-01 12:20:00              20            4.0   \n",
      "4  2024-12-03 18:30:00 2024-12-03 19:00:00              30            4.3   \n",
      "5  2024-12-05 07:00:00 2024-12-05 07:10:00              10            4.1   \n",
      "6  2024-12-06 08:00:00 2024-12-06 08:30:00              30            4.6   \n",
      "7  2024-12-03 13:00:00 2024-12-03 13:15:00              15            4.7   \n",
      "8  2024-12-06 19:00:00 2024-12-06 19:40:00              40            4.7   \n",
      "9  2024-12-04 18:00:00 2024-12-04 18:45:00              45            4.6   \n",
      "10 2024-12-07 12:30:00 2024-12-07 13:00:00              30            4.4   \n",
      "11 2024-12-07 18:00:00 2024-12-07 18:45:00              45            4.8   \n",
      "12 2024-12-08 19:30:00 2024-12-08 20:10:00              40            5.0   \n",
      "13 2024-12-08 13:30:00 2024-12-08 13:50:00              20            4.3   \n",
      "\n",
      "   User ID  \n",
      "0     U001  \n",
      "1     U001  \n",
      "2     U001  \n",
      "3     U002  \n",
      "4     U002  \n",
      "5     U002  \n",
      "6     U003  \n",
      "7     U004  \n",
      "8     U004  \n",
      "9     U005  \n",
      "10    U005  \n",
      "11    U006  \n",
      "12    U007  \n",
      "13    U008  \n",
      "\n",
      "[14 rows x 24 columns]\n"
     ]
    }
   ],
   "source": [
    "print(merged_data)"
   ]
  },
  {
   "cell_type": "code",
   "execution_count": 35,
   "id": "3f6f0ae7-93d5-4c83-9bc3-13e38af877df",
   "metadata": {},
   "outputs": [
    {
     "name": "stdout",
     "output_type": "stream",
     "text": [
      "        User Name  Age       Location Registration Date         Phone  \\\n",
      "0   Alice Johnson   28       New York        2023-01-15  123-456-7890   \n",
      "1   Alice Johnson   28       New York        2023-01-15  123-456-7890   \n",
      "2   Alice Johnson   28       New York        2023-01-15  123-456-7890   \n",
      "3       Bob Smith   35    Los Angeles        2023-02-20  987-654-3210   \n",
      "4       Bob Smith   35    Los Angeles        2023-02-20  987-654-3210   \n",
      "5       Bob Smith   35    Los Angeles        2023-02-20  987-654-3210   \n",
      "6     Charlie Lee   42        Chicago        2023-03-10  555-123-4567   \n",
      "7     David Brown   27  San Francisco        2023-04-05  444-333-2222   \n",
      "8     David Brown   27  San Francisco        2023-04-05  444-333-2222   \n",
      "9      Emma White   30        Seattle        2023-05-22  777-888-9999   \n",
      "10     Emma White   30        Seattle        2023-05-22  777-888-9999   \n",
      "11    Frank Green   25         Austin        2023-06-15  888-777-6666   \n",
      "12     Grace King   38         Boston        2023-07-02  999-888-7777   \n",
      "13      Henry Lee   31          Miami        2023-08-11  101-202-3030   \n",
      "\n",
      "                Email Favorite Meal  Total Orders  Order ID Order Date  ...  \\\n",
      "0     alice@email.com        Dinner            12      1001 2024-12-01  ...   \n",
      "1     alice@email.com        Dinner            12      1004 2024-12-02  ...   \n",
      "2     alice@email.com        Dinner            12      1009 2024-12-05  ...   \n",
      "3       bob@email.com         Lunch             8      1002 2024-12-01  ...   \n",
      "4       bob@email.com         Lunch             8      1006 2024-12-03  ...   \n",
      "5       bob@email.com         Lunch             8      1010 2024-12-05  ...   \n",
      "6   charlie@email.com     Breakfast            15      1011 2024-12-06  ...   \n",
      "7     david@email.com        Dinner            10      1005 2024-12-03  ...   \n",
      "8     david@email.com        Dinner            10      1012 2024-12-06  ...   \n",
      "9      emma@email.com         Lunch             9      1007 2024-12-04  ...   \n",
      "10     emma@email.com         Lunch             9      1013 2024-12-07  ...   \n",
      "11    frank@email.com        Dinner             7      1014 2024-12-07  ...   \n",
      "12    grace@email.com     Breakfast            14      1015 2024-12-08  ...   \n",
      "13    henry@email.com        Dinner             5      1016 2024-12-08  ...   \n",
      "\n",
      "   Time of Day Rating Session ID        Dish Name  Meal Type  \\\n",
      "0        Night    5.0       S001        Spaghetti     Dinner   \n",
      "1      Morning    4.0       S004         Pancakes  Breakfast   \n",
      "2        Night    5.0       S009  Grilled Chicken     Dinner   \n",
      "3          Day    4.0       S002     Caesar Salad      Lunch   \n",
      "4        Night    4.0       S006        Spaghetti     Dinner   \n",
      "5      Morning    4.0       S010          Oatmeal  Breakfast   \n",
      "6      Morning    4.0       S011         Pancakes  Breakfast   \n",
      "7          Day    4.0       S005     Caesar Salad      Lunch   \n",
      "8        Night    4.0       S012        Spaghetti     Dinner   \n",
      "9        Night    4.0       S007  Grilled Chicken     Dinner   \n",
      "10         Day    4.0       S013     Caesar Salad      Lunch   \n",
      "11       Night    5.0       S014  Grilled Chicken     Dinner   \n",
      "12       Night    5.0       S015        Spaghetti     Dinner   \n",
      "13         Day    4.0       S016    Veggie Burger      Lunch   \n",
      "\n",
      "         Session Start         Session End Duration (mins) Session Rating  \\\n",
      "0  2024-12-01 19:00:00 2024-12-01 19:30:00              30            4.5   \n",
      "1  2024-12-02 07:30:00 2024-12-02 08:00:00              30            4.2   \n",
      "2  2024-12-05 19:00:00 2024-12-05 19:40:00              40            4.9   \n",
      "3  2024-12-01 12:00:00 2024-12-01 12:20:00              20            4.0   \n",
      "4  2024-12-03 18:30:00 2024-12-03 19:00:00              30            4.3   \n",
      "5  2024-12-05 07:00:00 2024-12-05 07:10:00              10            4.1   \n",
      "6  2024-12-06 08:00:00 2024-12-06 08:30:00              30            4.6   \n",
      "7  2024-12-03 13:00:00 2024-12-03 13:15:00              15            4.7   \n",
      "8  2024-12-06 19:00:00 2024-12-06 19:40:00              40            4.7   \n",
      "9  2024-12-04 18:00:00 2024-12-04 18:45:00              45            4.6   \n",
      "10 2024-12-07 12:30:00 2024-12-07 13:00:00              30            4.4   \n",
      "11 2024-12-07 18:00:00 2024-12-07 18:45:00              45            4.8   \n",
      "12 2024-12-08 19:30:00 2024-12-08 20:10:00              40            5.0   \n",
      "13 2024-12-08 13:30:00 2024-12-08 13:50:00              20            4.3   \n",
      "\n",
      "   User ID  \n",
      "0     U001  \n",
      "1     U001  \n",
      "2     U001  \n",
      "3     U002  \n",
      "4     U002  \n",
      "5     U002  \n",
      "6     U003  \n",
      "7     U004  \n",
      "8     U004  \n",
      "9     U005  \n",
      "10    U005  \n",
      "11    U006  \n",
      "12    U007  \n",
      "13    U008  \n",
      "\n",
      "[14 rows x 24 columns]\n"
     ]
    }
   ],
   "source": [
    "# Assuming merged_data is our DataFrame\n",
    "merged_data.columns = merged_data.columns.str.replace('_y', '')\n",
    "\n",
    "# Display the updated DataFrame\n",
    "print(merged_data)\n",
    "\n",
    "# Save the DataFrame to a CSV file\n",
    "merged_data.to_csv('merged_data.csv', index=False)\n"
   ]
  },
  {
   "cell_type": "markdown",
   "id": "b4021159-8a7f-4129-81e5-eb737ceb96ab",
   "metadata": {},
   "source": [
    "# Analyze the Relationship Between Cooking Sessions and User Orders"
   ]
  },
  {
   "cell_type": "markdown",
   "id": "efdee7b3-fa9b-422e-b536-40c4927ff639",
   "metadata": {},
   "source": [
    "# Group by 'User ID' and aggregate the data"
   ]
  },
  {
   "cell_type": "code",
   "execution_count": 55,
   "id": "6cb1c944-1932-41e5-b4b4-cc0e84ee2b55",
   "metadata": {},
   "outputs": [],
   "source": [
    "\n",
    "user_behavior = merged_data.groupby('User ID').agg(\n",
    "    total_orders=('Order ID', 'count'),  # Count of orders per user\n",
    "    total_sessions=('Session ID', 'nunique'),  # Count of unique cooking sessions per user\n",
    "    avg_session_rating=('Session Rating', 'mean'),  # Average session rating per user\n",
    "    total_amount_spent=('Amount (USD)','sum')  # Total amount spent by user\n",
    ")\n",
    "\n"
   ]
  },
  {
   "cell_type": "markdown",
   "id": "55e8210e-7555-46f2-8bc6-4c59057476c6",
   "metadata": {},
   "source": [
    "# Display the analysis"
   ]
  },
  {
   "cell_type": "code",
   "execution_count": 56,
   "id": "360c3350-266a-4ba4-9948-b9a878643824",
   "metadata": {},
   "outputs": [
    {
     "name": "stdout",
     "output_type": "stream",
     "text": [
      "User Behavior Analysis (Orders, Sessions, and Spending):\n",
      "         total_orders  total_sessions  avg_session_rating  total_amount_spent\n",
      "User ID                                                                      \n",
      "U001                3               3            4.533333                35.0\n",
      "U002                3               3            4.133333                31.0\n",
      "U003                1               1            4.600000                 8.5\n",
      "U004                2               2            4.700000                21.5\n",
      "U005                2               2            4.500000                22.5\n",
      "U006                1               1            4.800000                13.0\n",
      "U007                1               1            5.000000                14.0\n",
      "U008                1               1            4.300000                11.0\n"
     ]
    }
   ],
   "source": [
    "\n",
    "print(\"User Behavior Analysis (Orders, Sessions, and Spending):\")\n",
    "print(user_behavior)"
   ]
  },
  {
   "cell_type": "markdown",
   "id": "e492f21d-d649-4d6a-a8b1-36212cfe736e",
   "metadata": {},
   "source": [
    "# Popular Dishes Analysis"
   ]
  },
  {
   "cell_type": "code",
   "execution_count": 57,
   "id": "fe2b4895-eddf-463f-802a-81c45d3d6188",
   "metadata": {},
   "outputs": [
    {
     "name": "stdout",
     "output_type": "stream",
     "text": [
      "Top 5 Popular Dishes:\n",
      "Dish Name\n",
      "Spaghetti          4\n",
      "Grilled Chicken    3\n",
      "Caesar Salad       3\n",
      "Pancakes           2\n",
      "Oatmeal            1\n",
      "Name: count, dtype: int64\n"
     ]
    }
   ],
   "source": [
    "# Count the number of orders for each dish\n",
    "popular_dishes = merged_data['Dish Name'].value_counts().head(5)  # Top 10 popular dishes\n",
    "\n",
    "# Display the top 5 most popular dishes\n",
    "print(\"Top 5 Popular Dishes:\")\n",
    "print(popular_dishes)\n"
   ]
  },
  {
   "cell_type": "markdown",
   "id": "e25c7341-446b-4150-acef-d49e54297afa",
   "metadata": {},
   "source": [
    "# Demographic Factors Analysis (Age and Location)"
   ]
  },
  {
   "cell_type": "markdown",
   "id": "99b03e90-7147-43d2-bc48-094d5c46d578",
   "metadata": {},
   "source": [
    "# Total orders and sessions by age group\n"
   ]
  },
  {
   "cell_type": "code",
   "execution_count": 50,
   "id": "3ccabbe6-54c6-40da-8c28-a57b56341524",
   "metadata": {},
   "outputs": [],
   "source": [
    "age_group_analysis = merged_data.groupby('Age').agg(\n",
    "    total_orders_by_age=('Order ID', 'count'),  # Count of orders per age group\n",
    "    total_sessions_by_age=('Session ID', 'nunique')  # Count of unique cooking sessions per age group\n",
    ")\n",
    "\n"
   ]
  },
  {
   "cell_type": "markdown",
   "id": "8ea9a79b-0b04-45fd-b418-399fcde1bbef",
   "metadata": {},
   "source": [
    "# Total orders and sessions by location\n"
   ]
  },
  {
   "cell_type": "code",
   "execution_count": 52,
   "id": "afaaf364-90a7-4e31-b266-ee7bfd99c925",
   "metadata": {},
   "outputs": [],
   "source": [
    "location_analysis = merged_data.groupby('Location').agg(\n",
    "    total_orders_by_location=('Order ID', 'count'),  # Count of orders per location\n",
    "    total_sessions_by_location=('Session ID', 'nunique')  # Count of unique cooking sessions per location\n",
    ")"
   ]
  },
  {
   "cell_type": "markdown",
   "id": "673ddb34-a8b6-45d0-a308-55ad4409c8e0",
   "metadata": {},
   "source": [
    "# Display the age group analysis\n"
   ]
  },
  {
   "cell_type": "code",
   "execution_count": 53,
   "id": "7e5200fd-e38e-4b79-bf94-5dd3734bef77",
   "metadata": {},
   "outputs": [
    {
     "name": "stdout",
     "output_type": "stream",
     "text": [
      "\n",
      "Age Group Analysis:\n",
      "     total_orders_by_age  total_sessions_by_age\n",
      "Age                                            \n",
      "25                     1                      1\n",
      "27                     2                      2\n",
      "28                     3                      3\n",
      "30                     2                      2\n",
      "31                     1                      1\n",
      "35                     3                      3\n",
      "38                     1                      1\n",
      "42                     1                      1\n"
     ]
    }
   ],
   "source": [
    "print(\"\\nAge Group Analysis:\")\n",
    "print(age_group_analysis)\n",
    "\n"
   ]
  },
  {
   "cell_type": "markdown",
   "id": "fee57e43-b76f-4a36-8660-ca7c6e315805",
   "metadata": {},
   "source": [
    "# Display the location analysis\n"
   ]
  },
  {
   "cell_type": "code",
   "execution_count": 54,
   "id": "98226aa8-7033-4888-b911-3fef9451cbfb",
   "metadata": {},
   "outputs": [
    {
     "name": "stdout",
     "output_type": "stream",
     "text": [
      "\n",
      "Location Analysis:\n",
      "               total_orders_by_location  total_sessions_by_location\n",
      "Location                                                           \n",
      "Austin                                1                           1\n",
      "Boston                                1                           1\n",
      "Chicago                               1                           1\n",
      "Los Angeles                           3                           3\n",
      "Miami                                 1                           1\n",
      "New York                              3                           3\n",
      "San Francisco                         2                           2\n",
      "Seattle                               2                           2\n"
     ]
    }
   ],
   "source": [
    "print(\"\\nLocation Analysis:\")\n",
    "print(location_analysis)"
   ]
  },
  {
   "cell_type": "code",
   "execution_count": null,
   "id": "1ffec9c8-2c65-484f-8d99-ebc55c07724f",
   "metadata": {},
   "outputs": [],
   "source": []
  }
 ],
 "metadata": {
  "kernelspec": {
   "display_name": "Python 3 (ipykernel)",
   "language": "python",
   "name": "python3"
  },
  "language_info": {
   "codemirror_mode": {
    "name": "ipython",
    "version": 3
   },
   "file_extension": ".py",
   "mimetype": "text/x-python",
   "name": "python",
   "nbconvert_exporter": "python",
   "pygments_lexer": "ipython3",
   "version": "3.8.10"
  }
 },
 "nbformat": 4,
 "nbformat_minor": 5
}
