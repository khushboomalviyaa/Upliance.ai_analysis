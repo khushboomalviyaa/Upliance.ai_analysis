{
 "cells": [
  {
   "cell_type": "code",
   "execution_count": 1,
   "id": "17c1acdb-3030-4378-89bf-ea074795dba6",
   "metadata": {},
   "outputs": [],
   "source": [
    "import pandas as pd\n",
    "import numpy as np \n",
    "# File path\n",
    "file_path = r\"C:\\Users\\Khushi\\Downloads\\Assignment.xlsx\""
   ]
  },
  {
   "cell_type": "markdown",
   "id": "90789203-0ca4-425e-b920-02cabe89e738",
   "metadata": {},
   "source": [
    "# Read the sheets using the Sheet names"
   ]
  },
  {
   "cell_type": "code",
   "execution_count": 2,
   "id": "d6628b8b-1ecb-4359-a817-5b7fe96c9d80",
   "metadata": {},
   "outputs": [],
   "source": [
    "\n",
    "user_details = pd.read_excel(file_path, sheet_name=\"UserDetails.csv\")\n",
    "cooking_sessions = pd.read_excel(file_path, sheet_name=\"CookingSessions.csv\")\n",
    "order_details = pd.read_excel(file_path, sheet_name=\"OrderDetails.csv\")"
   ]
  },
  {
   "cell_type": "markdown",
   "id": "9fe073d4-3587-486c-8641-bb24ebbae98b",
   "metadata": {},
   "source": [
    "# Print the data from Iser Details sheet"
   ]
  },
  {
   "cell_type": "code",
   "execution_count": 3,
   "id": "14049f4d-7462-4dce-8819-139fe7785542",
   "metadata": {},
   "outputs": [
    {
     "name": "stdout",
     "output_type": "stream",
     "text": [
      "User Details:\n",
      "  User ID      User Name  Age       Location Registration Date         Phone  \\\n",
      "0    U001  Alice Johnson   28       New York        2023-01-15  123-456-7890   \n",
      "1    U002      Bob Smith   35    Los Angeles        2023-02-20  987-654-3210   \n",
      "2    U003    Charlie Lee   42        Chicago        2023-03-10  555-123-4567   \n",
      "3    U004    David Brown   27  San Francisco        2023-04-05  444-333-2222   \n",
      "4    U005     Emma White   30        Seattle        2023-05-22  777-888-9999   \n",
      "\n",
      "               Email Favorite Meal  Total Orders  \n",
      "0    alice@email.com        Dinner            12  \n",
      "1      bob@email.com         Lunch             8  \n",
      "2  charlie@email.com     Breakfast            15  \n",
      "3    david@email.com        Dinner            10  \n",
      "4     emma@email.com         Lunch             9  \n"
     ]
    }
   ],
   "source": [
    "\n",
    "print(\"User Details:\")\n",
    "print(user_details.head())"
   ]
  },
  {
   "cell_type": "markdown",
   "id": "c615abe4-2e40-4704-8d49-99e22623a1b3",
   "metadata": {},
   "source": [
    "# print the data from cooking session sheet"
   ]
  },
  {
   "cell_type": "code",
   "execution_count": 4,
   "id": "9f105661-c698-4722-aa65-1da4fc9d41b5",
   "metadata": {},
   "outputs": [
    {
     "name": "stdout",
     "output_type": "stream",
     "text": [
      "Cooking Sessions:\n",
      "  Session ID User ID        Dish Name  Meal Type       Session Start  \\\n",
      "0       S001    U001        Spaghetti     Dinner 2024-12-01 19:00:00   \n",
      "1       S002    U002     Caesar Salad      Lunch 2024-12-01 12:00:00   \n",
      "2       S003    U003  Grilled Chicken     Dinner 2024-12-02 19:30:00   \n",
      "3       S004    U001         Pancakes  Breakfast 2024-12-02 07:30:00   \n",
      "4       S005    U004     Caesar Salad      Lunch 2024-12-03 13:00:00   \n",
      "\n",
      "          Session End  Duration (mins)  Session Rating  \n",
      "0 2024-12-01 19:30:00               30             4.5  \n",
      "1 2024-12-01 12:20:00               20             4.0  \n",
      "2 2024-12-02 20:10:00               40             4.8  \n",
      "3 2024-12-02 08:00:00               30             4.2  \n",
      "4 2024-12-03 13:15:00               15             4.7  \n"
     ]
    }
   ],
   "source": [
    "print(\"Cooking Sessions:\")\n",
    "print(cooking_sessions.head())"
   ]
  },
  {
   "cell_type": "markdown",
   "id": "71d65dda-b247-4d5f-82d7-9f76ac4082dc",
   "metadata": {},
   "source": [
    "# print the data from order Deatils sheet"
   ]
  },
  {
   "cell_type": "code",
   "execution_count": 5,
   "id": "fd55c02f-a6ff-4f9a-9e33-29bbe17983a2",
   "metadata": {},
   "outputs": [
    {
     "name": "stdout",
     "output_type": "stream",
     "text": [
      "Order Details:\n",
      "   Order ID User ID Order Date  Meal Type        Dish Name Order Status  \\\n",
      "0      1001    U001 2024-12-01     Dinner        Spaghetti    Completed   \n",
      "1      1002    U002 2024-12-01      Lunch     Caesar Salad    Completed   \n",
      "2      1003    U003 2024-12-02     Dinner  Grilled Chicken     Canceled   \n",
      "3      1004    U001 2024-12-02  Breakfast         Pancakes    Completed   \n",
      "4      1005    U004 2024-12-03      Lunch     Caesar Salad    Completed   \n",
      "\n",
      "   Amount (USD) Time of Day  Rating Session ID  \n",
      "0          15.0       Night     5.0       S001  \n",
      "1          10.0         Day     4.0       S002  \n",
      "2          12.5       Night     NaN       S003  \n",
      "3           8.0     Morning     4.0       S004  \n",
      "4           9.0         Day     4.0       S005  \n"
     ]
    }
   ],
   "source": [
    "print(\"Order Details:\")\n",
    "print(order_details.head())"
   ]
  },
  {
   "cell_type": "markdown",
   "id": "6a4d3fd9-36a9-4bd6-97cd-f11eb7cd2876",
   "metadata": {},
   "source": [
    "# Check the structure of user details sheet\n"
   ]
  },
  {
   "cell_type": "code",
   "execution_count": 6,
   "id": "e4287018-4772-4092-b82f-6eb3d77da985",
   "metadata": {},
   "outputs": [
    {
     "name": "stdout",
     "output_type": "stream",
     "text": [
      "<class 'pandas.core.frame.DataFrame'>\n",
      "RangeIndex: 10 entries, 0 to 9\n",
      "Data columns (total 9 columns):\n",
      " #   Column             Non-Null Count  Dtype         \n",
      "---  ------             --------------  -----         \n",
      " 0   User ID            10 non-null     object        \n",
      " 1   User Name          10 non-null     object        \n",
      " 2   Age                10 non-null     int64         \n",
      " 3   Location           10 non-null     object        \n",
      " 4   Registration Date  10 non-null     datetime64[ns]\n",
      " 5   Phone              10 non-null     object        \n",
      " 6   Email              10 non-null     object        \n",
      " 7   Favorite Meal      10 non-null     object        \n",
      " 8   Total Orders       10 non-null     int64         \n",
      "dtypes: datetime64[ns](1), int64(2), object(6)\n",
      "memory usage: 848.0+ bytes\n",
      "None\n",
      "             Age    Registration Date  Total Orders\n",
      "count  10.000000                   10     10.000000\n",
      "mean   31.800000  2023-05-27 02:24:00      9.400000\n",
      "min    25.000000  2023-01-15 00:00:00      5.000000\n",
      "25%    28.250000  2023-03-16 12:00:00      7.250000\n",
      "50%    30.500000  2023-06-03 00:00:00      8.500000\n",
      "75%    34.500000  2023-08-01 00:00:00     11.500000\n",
      "max    42.000000  2023-10-10 00:00:00     15.000000\n",
      "std     5.266245                  NaN      3.339993\n",
      "Missing values in UserDetails: User ID              0\n",
      "User Name            0\n",
      "Age                  0\n",
      "Location             0\n",
      "Registration Date    0\n",
      "Phone                0\n",
      "Email                0\n",
      "Favorite Meal        0\n",
      "Total Orders         0\n",
      "dtype: int64\n",
      "Duplicates in UserDetails: 0\n"
     ]
    }
   ],
   "source": [
    "print(user_details.info())\n",
    "print(user_details.describe())\n",
    "print(\"Missing values in UserDetails:\", user_details.isnull().sum())\n",
    "print(\"Duplicates in UserDetails:\", user_details.duplicated().sum())"
   ]
  },
  {
   "cell_type": "markdown",
   "id": "df234b11-1f84-4f61-82c5-1993c106da55",
   "metadata": {},
   "source": [
    "# check the structure of cooking sessions data"
   ]
  },
  {
   "cell_type": "code",
   "execution_count": 8,
   "id": "957737c2-9392-475e-8370-e6311b83325f",
   "metadata": {},
   "outputs": [
    {
     "name": "stdout",
     "output_type": "stream",
     "text": [
      "<class 'pandas.core.frame.DataFrame'>\n",
      "RangeIndex: 16 entries, 0 to 15\n",
      "Data columns (total 8 columns):\n",
      " #   Column           Non-Null Count  Dtype         \n",
      "---  ------           --------------  -----         \n",
      " 0   Session ID       16 non-null     object        \n",
      " 1   User ID          16 non-null     object        \n",
      " 2   Dish Name        16 non-null     object        \n",
      " 3   Meal Type        16 non-null     object        \n",
      " 4   Session Start    16 non-null     datetime64[ns]\n",
      " 5   Session End      16 non-null     datetime64[ns]\n",
      " 6   Duration (mins)  16 non-null     int64         \n",
      " 7   Session Rating   16 non-null     float64       \n",
      "dtypes: datetime64[ns](2), float64(1), int64(1), object(4)\n",
      "memory usage: 1.1+ KB\n",
      "None\n",
      "                    Session Start                    Session End  \\\n",
      "count                          16                             16   \n",
      "mean   2024-12-05 02:50:37.500000  2024-12-05 03:20:56.249999872   \n",
      "min           2024-12-01 12:00:00            2024-12-01 12:20:00   \n",
      "25%           2024-12-03 08:37:30            2024-12-03 08:58:45   \n",
      "50%           2024-12-05 00:30:00            2024-12-05 00:57:30   \n",
      "75%           2024-12-06 23:22:30            2024-12-07 00:00:00   \n",
      "max           2024-12-08 19:30:00            2024-12-08 20:10:00   \n",
      "std                           NaN                            NaN   \n",
      "\n",
      "       Duration (mins)  Session Rating  \n",
      "count        16.000000       16.000000  \n",
      "mean         30.312500        4.518750  \n",
      "min          10.000000        4.000000  \n",
      "25%          20.000000        4.300000  \n",
      "50%          30.000000        4.550000  \n",
      "75%          40.000000        4.725000  \n",
      "max          45.000000        5.000000  \n",
      "std          10.873324        0.292617  \n",
      "Missing values in CookingSessions: Session ID         0\n",
      "User ID            0\n",
      "Dish Name          0\n",
      "Meal Type          0\n",
      "Session Start      0\n",
      "Session End        0\n",
      "Duration (mins)    0\n",
      "Session Rating     0\n",
      "dtype: int64\n",
      "Duplicates in CookingSessions: 0\n"
     ]
    }
   ],
   "source": [
    "print(cooking_sessions.info())\n",
    "print(cooking_sessions.describe())\n",
    "print(\"Missing values in CookingSessions:\", cooking_sessions.isnull().sum())\n",
    "print(\"Duplicates in CookingSessions:\", cooking_sessions.duplicated().sum())"
   ]
  },
  {
   "cell_type": "markdown",
   "id": "e5b886ad-5cac-4bc1-8513-5e3517947553",
   "metadata": {},
   "source": [
    "# checking the structre of order_details data\n"
   ]
  },
  {
   "cell_type": "code",
   "execution_count": 10,
   "id": "5e69b00d-37cb-4746-b229-3211ee0cc784",
   "metadata": {},
   "outputs": [
    {
     "name": "stdout",
     "output_type": "stream",
     "text": [
      "<class 'pandas.core.frame.DataFrame'>\n",
      "RangeIndex: 16 entries, 0 to 15\n",
      "Data columns (total 10 columns):\n",
      " #   Column        Non-Null Count  Dtype         \n",
      "---  ------        --------------  -----         \n",
      " 0   Order ID      16 non-null     int64         \n",
      " 1   User ID       16 non-null     object        \n",
      " 2   Order Date    16 non-null     datetime64[ns]\n",
      " 3   Meal Type     16 non-null     object        \n",
      " 4   Dish Name     16 non-null     object        \n",
      " 5   Order Status  16 non-null     object        \n",
      " 6   Amount (USD)  16 non-null     float64       \n",
      " 7   Time of Day   16 non-null     object        \n",
      " 8   Rating        14 non-null     float64       \n",
      " 9   Session ID    16 non-null     object        \n",
      "dtypes: datetime64[ns](1), float64(2), int64(1), object(6)\n",
      "memory usage: 1.4+ KB\n",
      "None\n",
      "          Order ID           Order Date  Amount (USD)     Rating\n",
      "count    16.000000                   16     16.000000  14.000000\n",
      "mean   1008.500000  2024-12-04 12:00:00     11.250000   4.285714\n",
      "min    1001.000000  2024-12-01 00:00:00      7.000000   4.000000\n",
      "25%    1004.750000  2024-12-02 18:00:00      9.000000   4.000000\n",
      "50%    1008.500000  2024-12-04 12:00:00     11.500000   4.000000\n",
      "75%    1012.250000  2024-12-06 06:00:00     13.125000   4.750000\n",
      "max    1016.000000  2024-12-08 00:00:00     15.000000   5.000000\n",
      "std       4.760952                  NaN      2.435843   0.468807\n",
      "Missing values in OrderDetails: Order ID        0\n",
      "User ID         0\n",
      "Order Date      0\n",
      "Meal Type       0\n",
      "Dish Name       0\n",
      "Order Status    0\n",
      "Amount (USD)    0\n",
      "Time of Day     0\n",
      "Rating          2\n",
      "Session ID      0\n",
      "dtype: int64\n",
      "Duplicates in OrderDetails: 0\n"
     ]
    }
   ],
   "source": [
    "print(order_details.info())\n",
    "print(order_details.describe())\n",
    "print(\"Missing values in OrderDetails:\", order_details.isnull().sum())\n",
    "print(\"Duplicates in OrderDetails:\", order_details.duplicated().sum())"
   ]
  },
  {
   "cell_type": "markdown",
   "id": "b5999346-d946-4bcb-b6aa-f27cae0fca34",
   "metadata": {},
   "source": [
    "# Droping the null values from the data as we have 2 null values in Rating column \n"
   ]
  },
  {
   "cell_type": "code",
   "execution_count": 11,
   "id": "eefe39c1-c8a6-4d3b-bdea-eab94892629d",
   "metadata": {},
   "outputs": [
    {
     "name": "stdout",
     "output_type": "stream",
     "text": [
      "<class 'pandas.core.frame.DataFrame'>\n",
      "Index: 14 entries, 0 to 15\n",
      "Data columns (total 10 columns):\n",
      " #   Column        Non-Null Count  Dtype         \n",
      "---  ------        --------------  -----         \n",
      " 0   Order ID      14 non-null     int64         \n",
      " 1   User ID       14 non-null     object        \n",
      " 2   Order Date    14 non-null     datetime64[ns]\n",
      " 3   Meal Type     14 non-null     object        \n",
      " 4   Dish Name     14 non-null     object        \n",
      " 5   Order Status  14 non-null     object        \n",
      " 6   Amount (USD)  14 non-null     float64       \n",
      " 7   Time of Day   14 non-null     object        \n",
      " 8   Rating        14 non-null     float64       \n",
      " 9   Session ID    14 non-null     object        \n",
      "dtypes: datetime64[ns](1), float64(2), int64(1), object(6)\n",
      "memory usage: 1.2+ KB\n"
     ]
    }
   ],
   "source": [
    "order_details_cleaned = order_details.dropna(subset=['Rating'])\n",
    "order_details_cleaned.isnull().sum()\n",
    "order_details_cleaned.info()"
   ]
  },
  {
   "cell_type": "code",
   "execution_count": 12,
   "id": "99a0900c-2eac-44c0-bc5d-1d0897ff2fb9",
   "metadata": {},
   "outputs": [
    {
     "name": "stdout",
     "output_type": "stream",
     "text": [
      "  User ID_x      User Name  Age     Location Registration Date         Phone  \\\n",
      "0      U001  Alice Johnson   28     New York        2023-01-15  123-456-7890   \n",
      "1      U001  Alice Johnson   28     New York        2023-01-15  123-456-7890   \n",
      "2      U001  Alice Johnson   28     New York        2023-01-15  123-456-7890   \n",
      "3      U002      Bob Smith   35  Los Angeles        2023-02-20  987-654-3210   \n",
      "4      U002      Bob Smith   35  Los Angeles        2023-02-20  987-654-3210   \n",
      "\n",
      "             Email Favorite Meal  Total Orders  Order ID  ... Time of Day  \\\n",
      "0  alice@email.com        Dinner            12      1001  ...       Night   \n",
      "1  alice@email.com        Dinner            12      1004  ...     Morning   \n",
      "2  alice@email.com        Dinner            12      1009  ...       Night   \n",
      "3    bob@email.com         Lunch             8      1002  ...         Day   \n",
      "4    bob@email.com         Lunch             8      1006  ...       Night   \n",
      "\n",
      "  Rating Session ID User ID_y      Dish Name_y Meal Type_y  \\\n",
      "0    5.0       S001      U001        Spaghetti      Dinner   \n",
      "1    4.0       S004      U001         Pancakes   Breakfast   \n",
      "2    5.0       S009      U001  Grilled Chicken      Dinner   \n",
      "3    4.0       S002      U002     Caesar Salad       Lunch   \n",
      "4    4.0       S006      U002        Spaghetti      Dinner   \n",
      "\n",
      "        Session Start         Session End Duration (mins) Session Rating  \n",
      "0 2024-12-01 19:00:00 2024-12-01 19:30:00              30            4.5  \n",
      "1 2024-12-02 07:30:00 2024-12-02 08:00:00              30            4.2  \n",
      "2 2024-12-05 19:00:00 2024-12-05 19:40:00              40            4.9  \n",
      "3 2024-12-01 12:00:00 2024-12-01 12:20:00              20            4.0  \n",
      "4 2024-12-03 18:30:00 2024-12-03 19:00:00              30            4.3  \n",
      "\n",
      "[5 rows x 25 columns]\n"
     ]
    }
   ],
   "source": [
    "# Merging UserDetails with OrderDetails\n",
    "user_orders = pd.merge(user_details, order_details_cleaned, on='User ID', how='inner')\n",
    "\n",
    "\n",
    "# Merged the result user_data with CookingSessions\n",
    "merged_data = pd.merge(user_orders, cooking_sessions, on='Session ID', how='inner')\n",
    "\n",
    "\n",
    "# printing the merged dataset\n",
    "print(merged_data.head())"
   ]
  },
  {
   "cell_type": "markdown",
   "id": "3119e9f2-5ef1-43d1-82af-b1f6db47a1b8",
   "metadata": {},
   "source": [
    "# checking the structure of merged data\n"
   ]
  },
  {
   "cell_type": "code",
   "execution_count": 13,
   "id": "a39161ce-aa84-4b6e-b52a-9b32dea9b299",
   "metadata": {},
   "outputs": [
    {
     "name": "stdout",
     "output_type": "stream",
     "text": [
      "<class 'pandas.core.frame.DataFrame'>\n",
      "RangeIndex: 14 entries, 0 to 13\n",
      "Data columns (total 25 columns):\n",
      " #   Column             Non-Null Count  Dtype         \n",
      "---  ------             --------------  -----         \n",
      " 0   User ID_x          14 non-null     object        \n",
      " 1   User Name          14 non-null     object        \n",
      " 2   Age                14 non-null     int64         \n",
      " 3   Location           14 non-null     object        \n",
      " 4   Registration Date  14 non-null     datetime64[ns]\n",
      " 5   Phone              14 non-null     object        \n",
      " 6   Email              14 non-null     object        \n",
      " 7   Favorite Meal      14 non-null     object        \n",
      " 8   Total Orders       14 non-null     int64         \n",
      " 9   Order ID           14 non-null     int64         \n",
      " 10  Order Date         14 non-null     datetime64[ns]\n",
      " 11  Meal Type_x        14 non-null     object        \n",
      " 12  Dish Name_x        14 non-null     object        \n",
      " 13  Order Status       14 non-null     object        \n",
      " 14  Amount (USD)       14 non-null     float64       \n",
      " 15  Time of Day        14 non-null     object        \n",
      " 16  Rating             14 non-null     float64       \n",
      " 17  Session ID         14 non-null     object        \n",
      " 18  User ID_y          14 non-null     object        \n",
      " 19  Dish Name_y        14 non-null     object        \n",
      " 20  Meal Type_y        14 non-null     object        \n",
      " 21  Session Start      14 non-null     datetime64[ns]\n",
      " 22  Session End        14 non-null     datetime64[ns]\n",
      " 23  Duration (mins)    14 non-null     int64         \n",
      " 24  Session Rating     14 non-null     float64       \n",
      "dtypes: datetime64[ns](4), float64(3), int64(4), object(14)\n",
      "memory usage: 2.9+ KB\n"
     ]
    },
    {
     "data": {
      "text/plain": [
       "User ID_x            0\n",
       "User Name            0\n",
       "Age                  0\n",
       "Location             0\n",
       "Registration Date    0\n",
       "Phone                0\n",
       "Email                0\n",
       "Favorite Meal        0\n",
       "Total Orders         0\n",
       "Order ID             0\n",
       "Order Date           0\n",
       "Meal Type_x          0\n",
       "Dish Name_x          0\n",
       "Order Status         0\n",
       "Amount (USD)         0\n",
       "Time of Day          0\n",
       "Rating               0\n",
       "Session ID           0\n",
       "User ID_y            0\n",
       "Dish Name_y          0\n",
       "Meal Type_y          0\n",
       "Session Start        0\n",
       "Session End          0\n",
       "Duration (mins)      0\n",
       "Session Rating       0\n",
       "dtype: int64"
      ]
     },
     "execution_count": 13,
     "metadata": {},
     "output_type": "execute_result"
    }
   ],
   "source": [
    "merged_data.info()\n",
    "merged_data.isnull().sum()"
   ]
  },
  {
   "cell_type": "code",
   "execution_count": 14,
   "id": "9f809e3e-5e19-4e93-b8da-bcd234c93e34",
   "metadata": {},
   "outputs": [
    {
     "name": "stdout",
     "output_type": "stream",
     "text": [
      "Index(['User ID_x', 'User Name', 'Age', 'Location', 'Registration Date',\n",
      "       'Phone', 'Email', 'Favorite Meal', 'Total Orders', 'Order ID',\n",
      "       'Order Date', 'Meal Type_x', 'Dish Name_x', 'Order Status',\n",
      "       'Amount (USD)', 'Time of Day', 'Rating', 'Session ID', 'User ID_y',\n",
      "       'Dish Name_y', 'Meal Type_y', 'Session Start', 'Session End',\n",
      "       'Duration (mins)', 'Session Rating'],\n",
      "      dtype='object')\n"
     ]
    }
   ],
   "source": [
    "#printing the column names from merged_data table\n",
    "print(merged_data.columns)"
   ]
  },
  {
   "cell_type": "code",
   "execution_count": 15,
   "id": "363f911b-a97e-4901-a7d3-28c93120cf4a",
   "metadata": {},
   "outputs": [
    {
     "name": "stdout",
     "output_type": "stream",
     "text": [
      "   User ID_x User ID_y\n",
      "0       U001      U001\n",
      "1       U001      U001\n",
      "2       U001      U001\n",
      "3       U002      U002\n",
      "4       U002      U002\n",
      "5       U002      U002\n",
      "6       U003      U003\n",
      "7       U004      U004\n",
      "8       U004      U004\n",
      "9       U005      U005\n",
      "10      U005      U005\n",
      "11      U006      U006\n",
      "12      U007      U007\n",
      "13      U008      U008\n"
     ]
    }
   ],
   "source": [
    "#printing the columns User_ID_x and User_id_y to compare the rows with eachother\n",
    "\n",
    "print(merged_data[['User ID_x', 'User ID_y']])"
   ]
  },
  {
   "cell_type": "code",
   "execution_count": 16,
   "id": "c80d34bc-37e1-49b7-93ae-47667b9ddb29",
   "metadata": {},
   "outputs": [
    {
     "name": "stdout",
     "output_type": "stream",
     "text": [
      "   User ID_x      User Name  Age       Location Registration Date  \\\n",
      "0       U001  Alice Johnson   28       New York        2023-01-15   \n",
      "1       U001  Alice Johnson   28       New York        2023-01-15   \n",
      "2       U001  Alice Johnson   28       New York        2023-01-15   \n",
      "3       U002      Bob Smith   35    Los Angeles        2023-02-20   \n",
      "4       U002      Bob Smith   35    Los Angeles        2023-02-20   \n",
      "5       U002      Bob Smith   35    Los Angeles        2023-02-20   \n",
      "6       U003    Charlie Lee   42        Chicago        2023-03-10   \n",
      "7       U004    David Brown   27  San Francisco        2023-04-05   \n",
      "8       U004    David Brown   27  San Francisco        2023-04-05   \n",
      "9       U005     Emma White   30        Seattle        2023-05-22   \n",
      "10      U005     Emma White   30        Seattle        2023-05-22   \n",
      "11      U006    Frank Green   25         Austin        2023-06-15   \n",
      "12      U007     Grace King   38         Boston        2023-07-02   \n",
      "13      U008      Henry Lee   31          Miami        2023-08-11   \n",
      "\n",
      "           Phone              Email Favorite Meal  Total Orders  Order ID  \\\n",
      "0   123-456-7890    alice@email.com        Dinner            12      1001   \n",
      "1   123-456-7890    alice@email.com        Dinner            12      1004   \n",
      "2   123-456-7890    alice@email.com        Dinner            12      1009   \n",
      "3   987-654-3210      bob@email.com         Lunch             8      1002   \n",
      "4   987-654-3210      bob@email.com         Lunch             8      1006   \n",
      "5   987-654-3210      bob@email.com         Lunch             8      1010   \n",
      "6   555-123-4567  charlie@email.com     Breakfast            15      1011   \n",
      "7   444-333-2222    david@email.com        Dinner            10      1005   \n",
      "8   444-333-2222    david@email.com        Dinner            10      1012   \n",
      "9   777-888-9999     emma@email.com         Lunch             9      1007   \n",
      "10  777-888-9999     emma@email.com         Lunch             9      1013   \n",
      "11  888-777-6666    frank@email.com        Dinner             7      1014   \n",
      "12  999-888-7777    grace@email.com     Breakfast            14      1015   \n",
      "13  101-202-3030    henry@email.com        Dinner             5      1016   \n",
      "\n",
      "    ... Time of Day Rating Session ID User ID        Dish Name  Meal Type  \\\n",
      "0   ...       Night    5.0       S001    U001        Spaghetti     Dinner   \n",
      "1   ...     Morning    4.0       S004    U001         Pancakes  Breakfast   \n",
      "2   ...       Night    5.0       S009    U001  Grilled Chicken     Dinner   \n",
      "3   ...         Day    4.0       S002    U002     Caesar Salad      Lunch   \n",
      "4   ...       Night    4.0       S006    U002        Spaghetti     Dinner   \n",
      "5   ...     Morning    4.0       S010    U002          Oatmeal  Breakfast   \n",
      "6   ...     Morning    4.0       S011    U003         Pancakes  Breakfast   \n",
      "7   ...         Day    4.0       S005    U004     Caesar Salad      Lunch   \n",
      "8   ...       Night    4.0       S012    U004        Spaghetti     Dinner   \n",
      "9   ...       Night    4.0       S007    U005  Grilled Chicken     Dinner   \n",
      "10  ...         Day    4.0       S013    U005     Caesar Salad      Lunch   \n",
      "11  ...       Night    5.0       S014    U006  Grilled Chicken     Dinner   \n",
      "12  ...       Night    5.0       S015    U007        Spaghetti     Dinner   \n",
      "13  ...         Day    4.0       S016    U008    Veggie Burger      Lunch   \n",
      "\n",
      "         Session Start         Session End Duration (mins) Session Rating  \n",
      "0  2024-12-01 19:00:00 2024-12-01 19:30:00              30            4.5  \n",
      "1  2024-12-02 07:30:00 2024-12-02 08:00:00              30            4.2  \n",
      "2  2024-12-05 19:00:00 2024-12-05 19:40:00              40            4.9  \n",
      "3  2024-12-01 12:00:00 2024-12-01 12:20:00              20            4.0  \n",
      "4  2024-12-03 18:30:00 2024-12-03 19:00:00              30            4.3  \n",
      "5  2024-12-05 07:00:00 2024-12-05 07:10:00              10            4.1  \n",
      "6  2024-12-06 08:00:00 2024-12-06 08:30:00              30            4.6  \n",
      "7  2024-12-03 13:00:00 2024-12-03 13:15:00              15            4.7  \n",
      "8  2024-12-06 19:00:00 2024-12-06 19:40:00              40            4.7  \n",
      "9  2024-12-04 18:00:00 2024-12-04 18:45:00              45            4.6  \n",
      "10 2024-12-07 12:30:00 2024-12-07 13:00:00              30            4.4  \n",
      "11 2024-12-07 18:00:00 2024-12-07 18:45:00              45            4.8  \n",
      "12 2024-12-08 19:30:00 2024-12-08 20:10:00              40            5.0  \n",
      "13 2024-12-08 13:30:00 2024-12-08 13:50:00              20            4.3  \n",
      "\n",
      "[14 rows x 25 columns]\n"
     ]
    }
   ],
   "source": [
    "# Assuming merged_data is our DataFrame\n",
    "merged_data.columns = merged_data.columns.str.replace('_y', '')\n",
    "\n",
    "# Display the updated DataFrame\n",
    "print(merged_data)\n",
    "\n",
    "# Save the DataFrame to a CSV file\n",
    "merged_data.to_csv('merged_data.csv', index=False)"
   ]
  },
  {
   "cell_type": "markdown",
   "id": "b1a33030-036b-47ff-89a9-9e505f25a553",
   "metadata": {},
   "source": [
    "# Analyze the Relationship Between Cooking Sessions and User Orders"
   ]
  },
  {
   "cell_type": "markdown",
   "id": "d6a68e7c-62cc-4c80-9b48-3ce09d3e9ccd",
   "metadata": {},
   "source": [
    "## Group by 'User ID' and aggregate the data"
   ]
  },
  {
   "cell_type": "code",
   "execution_count": 17,
   "id": "fdd3b7a0-7df4-40dc-9b3a-2b11d9c86183",
   "metadata": {},
   "outputs": [],
   "source": [
    "user_behavior = merged_data.groupby('User ID').agg(\n",
    "    total_orders=('Order ID', 'count'),  # Count of orders per user\n",
    "    total_sessions=('Session ID', 'nunique'),  # Count of unique cooking sessions per user\n",
    "    avg_session_rating=('Session Rating', 'mean'),  # Average session rating per user\n",
    "    total_amount_spent=('Amount (USD)','sum')  # Total amount spent by user\n",
    ")"
   ]
  },
  {
   "cell_type": "markdown",
   "id": "ae499bed-9efa-4ec0-a52d-cd63c0622406",
   "metadata": {},
   "source": [
    "## Display the analysis"
   ]
  },
  {
   "cell_type": "code",
   "execution_count": 18,
   "id": "84e1bf6b-b2ac-4302-a3d3-fe9c6e94198c",
   "metadata": {},
   "outputs": [
    {
     "name": "stdout",
     "output_type": "stream",
     "text": [
      "User Behavior Analysis (Orders, Sessions, and Spending):\n",
      "         total_orders  total_sessions  avg_session_rating  total_amount_spent\n",
      "User ID                                                                      \n",
      "U001                3               3            4.533333                35.0\n",
      "U002                3               3            4.133333                31.0\n",
      "U003                1               1            4.600000                 8.5\n",
      "U004                2               2            4.700000                21.5\n",
      "U005                2               2            4.500000                22.5\n",
      "U006                1               1            4.800000                13.0\n",
      "U007                1               1            5.000000                14.0\n",
      "U008                1               1            4.300000                11.0\n"
     ]
    }
   ],
   "source": [
    "print(\"User Behavior Analysis (Orders, Sessions, and Spending):\")\n",
    "print(user_behavior)"
   ]
  },
  {
   "cell_type": "markdown",
   "id": "6af49881-87b2-4316-8fde-2c43f8ee69f3",
   "metadata": {},
   "source": [
    "# Popular Dishes Analysis"
   ]
  },
  {
   "cell_type": "code",
   "execution_count": 19,
   "id": "4312743e-d313-4bd4-85ee-99e636c8bcb5",
   "metadata": {},
   "outputs": [
    {
     "name": "stdout",
     "output_type": "stream",
     "text": [
      "Top 5 Popular Dishes:\n",
      "Dish Name\n",
      "Spaghetti          4\n",
      "Grilled Chicken    3\n",
      "Caesar Salad       3\n",
      "Pancakes           2\n",
      "Oatmeal            1\n",
      "Name: count, dtype: int64\n"
     ]
    }
   ],
   "source": [
    "# Count the number of orders for each dish\n",
    "popular_dishes = merged_data['Dish Name'].value_counts().head(5)  # Top 10 popular dishes\n",
    "\n",
    "# Display the top 5 most popular dishes\n",
    "print(\"Top 5 Popular Dishes:\")\n",
    "print(popular_dishes)\n"
   ]
  },
  {
   "cell_type": "markdown",
   "id": "31df843d-4469-4b79-8f17-8654211acc87",
   "metadata": {},
   "source": [
    "# Demographic Factors Analysis (Age and Location)"
   ]
  },
  {
   "cell_type": "markdown",
   "id": "2b6e9d71-512a-45e1-9adc-9acbef3b61a3",
   "metadata": {},
   "source": [
    "## Total orders and sessions by age group\n"
   ]
  },
  {
   "cell_type": "code",
   "execution_count": 20,
   "id": "e2464da0-fe83-492d-9edf-41aa387de617",
   "metadata": {},
   "outputs": [],
   "source": [
    "age_group_analysis = merged_data.groupby('Age').agg(\n",
    "    total_orders_by_age=('Order ID', 'count'),  # Count of orders per age group\n",
    "    total_sessions_by_age=('Session ID', 'nunique')  # Count of unique cooking sessions per age group\n",
    ")\n"
   ]
  },
  {
   "cell_type": "markdown",
   "id": "b419d453-af26-490b-b780-22533db25003",
   "metadata": {},
   "source": [
    "## Total orders and sessions by location\n"
   ]
  },
  {
   "cell_type": "code",
   "execution_count": 22,
   "id": "d6ad5ee6-76a3-4f94-b265-f71fc7568e5e",
   "metadata": {},
   "outputs": [],
   "source": [
    "location_analysis = merged_data.groupby('Location').agg(\n",
    "    total_orders_by_location=('Order ID', 'count'),  # Count of orders per location\n",
    "    total_sessions_by_location=('Session ID', 'nunique')  # Count of unique cooking sessions per location\n",
    ")"
   ]
  },
  {
   "cell_type": "markdown",
   "id": "f657d15d-a265-4246-a7f5-cf879b3b815d",
   "metadata": {},
   "source": [
    "## Display the age group analysis\n"
   ]
  },
  {
   "cell_type": "code",
   "execution_count": 24,
   "id": "af986ccb-0148-4838-937b-432ea6f171d0",
   "metadata": {},
   "outputs": [
    {
     "name": "stdout",
     "output_type": "stream",
     "text": [
      "\n",
      "Age Group Analysis:\n",
      "     total_orders_by_age  total_sessions_by_age\n",
      "Age                                            \n",
      "25                     1                      1\n",
      "27                     2                      2\n",
      "28                     3                      3\n",
      "30                     2                      2\n",
      "31                     1                      1\n",
      "35                     3                      3\n",
      "38                     1                      1\n",
      "42                     1                      1\n"
     ]
    }
   ],
   "source": [
    "print(\"\\nAge Group Analysis:\")\n",
    "print(age_group_analysis)"
   ]
  },
  {
   "cell_type": "markdown",
   "id": "714d7435-99cc-4099-8e2b-b43017a566ff",
   "metadata": {},
   "source": [
    "## Display the location analysis"
   ]
  },
  {
   "cell_type": "code",
   "execution_count": 25,
   "id": "f73fae94-4f8e-46cb-87de-de8247a787f9",
   "metadata": {},
   "outputs": [
    {
     "name": "stdout",
     "output_type": "stream",
     "text": [
      "\n",
      "Location Analysis:\n",
      "               total_orders_by_location  total_sessions_by_location\n",
      "Location                                                           \n",
      "Austin                                1                           1\n",
      "Boston                                1                           1\n",
      "Chicago                               1                           1\n",
      "Los Angeles                           3                           3\n",
      "Miami                                 1                           1\n",
      "New York                              3                           3\n",
      "San Francisco                         2                           2\n",
      "Seattle                               2                           2\n"
     ]
    }
   ],
   "source": [
    "print(\"\\nLocation Analysis:\")\n",
    "print(location_analysis)"
   ]
  },
  {
   "cell_type": "code",
   "execution_count": null,
   "id": "e82b1abb-1c2a-4a0e-817f-60ad79326376",
   "metadata": {},
   "outputs": [],
   "source": []
  }
 ],
 "metadata": {
  "kernelspec": {
   "display_name": "Python 3 (ipykernel)",
   "language": "python",
   "name": "python3"
  },
  "language_info": {
   "codemirror_mode": {
    "name": "ipython",
    "version": 3
   },
   "file_extension": ".py",
   "mimetype": "text/x-python",
   "name": "python",
   "nbconvert_exporter": "python",
   "pygments_lexer": "ipython3",
   "version": "3.8.10"
  }
 },
 "nbformat": 4,
 "nbformat_minor": 5
}
